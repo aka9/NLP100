{
 "cells": [
  {
   "cell_type": "markdown",
   "metadata": {},
   "source": [
    "# [自然言語処理100本ノック 第1章: 準備運動](http://www.cl.ecei.tohoku.ac.jp/nlp100/#ch1)"
   ]
  },
  {
   "cell_type": "markdown",
   "metadata": {},
   "source": [
    "## 00. 文字列の逆順\n",
    "文字列\"stressed\"の文字を逆に（末尾から先頭に向かって）並べた文字列を得よ．"
   ]
  },
  {
   "cell_type": "code",
   "execution_count": 1,
   "metadata": {},
   "outputs": [],
   "source": [
    "def test_chap1_00():\n",
    "    str = \"stressed\"\n",
    "    answer = \"desserts\"\n",
    "    \n",
    "    assert reverse_string(str) == answer\n",
    "    print(answer)"
   ]
  },
  {
   "cell_type": "code",
   "execution_count": 2,
   "metadata": {},
   "outputs": [],
   "source": [
    "def reverse_string(str):\n",
    "    answer = str[::-1]\n",
    "    return answer"
   ]
  },
  {
   "cell_type": "code",
   "execution_count": 3,
   "metadata": {},
   "outputs": [
    {
     "name": "stdout",
     "output_type": "stream",
     "text": [
      "desserts\n"
     ]
    }
   ],
   "source": [
    "test_chap1_00()"
   ]
  },
  {
   "cell_type": "markdown",
   "metadata": {},
   "source": [
    "> It works by doing [begin:end:step] - by leaving begin and end off and specifying a step of -1, it reverses a string.\n",
    "\n",
    "[Reverse a string in Python - Stack Overflow](https://stackoverflow.com/questions/931092/reverse-a-string-in-python)より引用"
   ]
  },
  {
   "cell_type": "markdown",
   "metadata": {},
   "source": [
    "つまり, \\[begin:end:step\\]なので, stepを-1にすればいい."
   ]
  },
  {
   "cell_type": "markdown",
   "metadata": {},
   "source": [
    "## 01. 「パタトクカシーー」\n",
    "「パタトクカシーー」という文字列の1,3,5,7文字目を取り出して連結した文字列を得よ．"
   ]
  },
  {
   "cell_type": "code",
   "execution_count": 4,
   "metadata": {},
   "outputs": [],
   "source": [
    "def test_chap1_01():\n",
    "    str = \"パタトクカシーー\"\n",
    "    answer = \"パトカー\"\n",
    "    \n",
    "    assert chap_01(str) == answer\n",
    "    print(answer)"
   ]
  },
  {
   "cell_type": "code",
   "execution_count": 5,
   "metadata": {},
   "outputs": [],
   "source": [
    "def chap_01(str):\n",
    "    answer = str[::2]\n",
    "    return answer"
   ]
  },
  {
   "cell_type": "code",
   "execution_count": 6,
   "metadata": {},
   "outputs": [
    {
     "name": "stdout",
     "output_type": "stream",
     "text": [
      "パトカー\n"
     ]
    }
   ],
   "source": [
    "test_chap1_01()"
   ]
  },
  {
   "cell_type": "markdown",
   "metadata": {},
   "source": [
    "stepを2にすればいい."
   ]
  },
  {
   "cell_type": "markdown",
   "metadata": {},
   "source": [
    "## 02. 「パトカー」＋「タクシー」＝「パタトクカシーー」\n",
    "「パトカー」＋「タクシー」の文字を先頭から交互に連結して文字列「パタトクカシーー」を得よ．"
   ]
  },
  {
   "cell_type": "code",
   "execution_count": 7,
   "metadata": {},
   "outputs": [],
   "source": [
    "def test_chap1_02():\n",
    "    str1 = \"パトカー\"\n",
    "    str2 = \"タクシー\"\n",
    "    answer = \"パタトクカシーー\"\n",
    "    \n",
    "    assert join_char_alternately(str1, str2) == answer\n",
    "    print(answer)"
   ]
  },
  {
   "cell_type": "code",
   "execution_count": 8,
   "metadata": {},
   "outputs": [],
   "source": [
    "def join_char_alternately(str1, str2):\n",
    "    answer = \"\"\n",
    "    for char1, char2 in zip(str1, str2):\n",
    "        answer += char1 + char2\n",
    "    \n",
    "    return answer"
   ]
  },
  {
   "cell_type": "code",
   "execution_count": 9,
   "metadata": {},
   "outputs": [
    {
     "name": "stdout",
     "output_type": "stream",
     "text": [
      "パタトクカシーー\n"
     ]
    }
   ],
   "source": [
    "test_chap1_02()"
   ]
  },
  {
   "cell_type": "markdown",
   "metadata": {},
   "source": [
    "zip楽"
   ]
  },
  {
   "cell_type": "markdown",
   "metadata": {},
   "source": [
    "## 03. 円周率\n",
    "\"Now I need a drink, alcoholic of course, after the heavy lectures involving quantum mechanics.\"という文を単語に分解し，各単語の（アルファベットの）文字数を先頭から出現順に並べたリストを作成せよ．\n",
    "\n"
   ]
  },
  {
   "cell_type": "code",
   "execution_count": 10,
   "metadata": {},
   "outputs": [],
   "source": [
    "def test_chap1_03():\n",
    "    str = \"Now I need a drink, alcoholic of course, after the heavy lectures involving quantum mechanics.\"\n",
    "    answer = [3, 1, 4, 1, 5, 9, 2, 6, 5, 3, 5, 8, 9, 7, 9]\n",
    "    \n",
    "    assert create_list_word_len(str) == answer\n",
    "    print(answer)"
   ]
  },
  {
   "cell_type": "code",
   "execution_count": 11,
   "metadata": {},
   "outputs": [],
   "source": [
    "def create_list_word_len(sentence):\n",
    "    answer = []\n",
    "    # \".\", \",\"は要らないので置き換え.\n",
    "    sentence = sentence.replace(\".\",\"\")\n",
    "    sentence = sentence.replace(\",\",\"\")\n",
    "    words = sentence.split(\" \")\n",
    "\n",
    "    for word in words:\n",
    "        answer.append(len(word))\n",
    "        \n",
    "    return answer"
   ]
  },
  {
   "cell_type": "code",
   "execution_count": 12,
   "metadata": {
    "scrolled": true
   },
   "outputs": [
    {
     "name": "stdout",
     "output_type": "stream",
     "text": [
      "[3, 1, 4, 1, 5, 9, 2, 6, 5, 3, 5, 8, 9, 7, 9]\n"
     ]
    }
   ],
   "source": [
    "test_chap1_03()"
   ]
  },
  {
   "cell_type": "markdown",
   "metadata": {},
   "source": [
    "問題文の解釈が難しかった <-おい"
   ]
  },
  {
   "cell_type": "markdown",
   "metadata": {},
   "source": [
    "## 04. 元素記号\n",
    "\"Hi He Lied Because Boron Could Not Oxidize Fluorine. New Nations Might Also Sign Peace Security Clause. Arthur King Can.\"という文を単語に分解し，1, 5, 6, 7, 8, 9, 15, 16, 19番目の単語は先頭の1文字，それ以外の単語は先頭に2文字を取り出し，取り出した文字列から単語の位置（先頭から何番目の単語か）への連想配列（辞書型もしくはマップ型）を作成せよ．"
   ]
  },
  {
   "cell_type": "code",
   "execution_count": 13,
   "metadata": {},
   "outputs": [],
   "source": [
    "def test_chap1_04():\n",
    "    str = \"Hi He Lied Because Boron Could Not Oxidize Fluorine. \\\n",
    "           New Nations Might Also Sign Peace Security Clause. \\\n",
    "           Arthur King Can.\"\n",
    "    num_list = [1, 5, 6, 7, 8, 9, 15, 16, 19]\n",
    "    answer = {\"H\": 1, \"He\": 2, \"Li\": 3, \"Be\": 4, \"B\": 5, \"C\": 6, \"N\": 7, \"O\": 8, \"F\": 9, \n",
    "              \"Ne\": 10, \"Na\": 11, \"Mi\": 12, \"Al\": 13, \"Si\": 14, \"P\": 15, \"S\":16, \"Cl\":17,\n",
    "              \"Ar\": 18, \"K\": 19, \"Ca\":20}\n",
    "    \n",
    "    assert create_map_word_ordinal(str, num_list) == answer\n",
    "    print(answer)"
   ]
  },
  {
   "cell_type": "code",
   "execution_count": 14,
   "metadata": {},
   "outputs": [],
   "source": [
    "def create_map_word_ordinal(sentences, num_list):\n",
    "    answer = {}\n",
    "    words = sentences.split()\n",
    "    ordinal = 0\n",
    "    \n",
    "    for word in words:\n",
    "        char = \"\"\n",
    "        ordinal += 1\n",
    "        if ordinal in (num_list):\n",
    "            char = word[:1]\n",
    "        else:\n",
    "            char = word[:2]\n",
    "            \n",
    "        answer[char] = ordinal\n",
    "    return answer"
   ]
  },
  {
   "cell_type": "code",
   "execution_count": 15,
   "metadata": {},
   "outputs": [
    {
     "name": "stdout",
     "output_type": "stream",
     "text": [
      "{'H': 1, 'He': 2, 'Li': 3, 'Be': 4, 'B': 5, 'C': 6, 'N': 7, 'O': 8, 'F': 9, 'Ne': 10, 'Na': 11, 'Mi': 12, 'Al': 13, 'Si': 14, 'P': 15, 'S': 16, 'Cl': 17, 'Ar': 18, 'K': 19, 'Ca': 20}\n"
     ]
    }
   ],
   "source": [
    "test_chap1_04()"
   ]
  },
  {
   "cell_type": "markdown",
   "metadata": {},
   "source": [
    "テスト書くほうがめんどくさいw"
   ]
  },
  {
   "cell_type": "markdown",
   "metadata": {},
   "source": [
    "## 05. n-gram\n",
    "与えられたシーケンス（文字列やリストなど）からn-gramを作る関数を作成せよ．この関数を用い，\"I am an NLPer\"という文から単語bi-gram，文字bi-gramを得よ．"
   ]
  },
  {
   "cell_type": "code",
   "execution_count": 16,
   "metadata": {},
   "outputs": [],
   "source": [
    "def test_chap1_05():\n",
    "    str = \"I am an NLPer\"\n",
    "    word_bigram_answer = [\"I am\", \"am an\", \"an NLPer\"]\n",
    "    char_bigram_answer = [\"I \", \" a\", \"am\", \"m \", \" a\", \"an\", \"n \", \" N\", \"NL\", \"LP\", \"Pe\", \"er\"]\n",
    "    \n",
    "    assert bigram(str, \"word\") == word_bigram_answer\n",
    "    assert bigram(str, \"char\") == char_bigram_answer\n",
    "    \n",
    "    print(word_bigram_answer)\n",
    "    print(char_bigram_answer)"
   ]
  },
  {
   "cell_type": "code",
   "execution_count": 17,
   "metadata": {},
   "outputs": [],
   "source": [
    "def bigram(str, mode):\n",
    "    bigram_list = []\n",
    "    if mode == \"word\":\n",
    "        bigram_list = word_bigram(str)\n",
    "    elif mode == \"char\":\n",
    "        bigram_list = char_bigram(str)\n",
    "    else:\n",
    "        pass\n",
    "    \n",
    "    return bigram_list\n",
    "\n",
    "def word_bigram(str):\n",
    "    bigram_list = []\n",
    "    \n",
    "    words = str.split()\n",
    "    \n",
    "    word = words.pop(0)\n",
    "    while(words):\n",
    "        next_word = words.pop(0)\n",
    "        bigram_str = word + \" \" + next_word\n",
    "        bigram_list.append(bigram_str)\n",
    "        word = next_word\n",
    "    return bigram_list    \n",
    "\n",
    "def char_bigram(str):\n",
    "    bigram_list = []\n",
    "    for char1, char2 in zip(str[0::1], str[1::1]):\n",
    "        bigram_str = char1 + char2\n",
    "        bigram_list.append(bigram_str)\n",
    "    \n",
    "    return bigram_list\n",
    "    "
   ]
  },
  {
   "cell_type": "code",
   "execution_count": 18,
   "metadata": {},
   "outputs": [
    {
     "name": "stdout",
     "output_type": "stream",
     "text": [
      "['I am', 'am an', 'an NLPer']\n",
      "['I ', ' a', 'am', 'm ', ' a', 'an', 'n ', ' N', 'NL', 'LP', 'Pe', 'er']\n"
     ]
    }
   ],
   "source": [
    "test_chap1_05()"
   ]
  },
  {
   "cell_type": "markdown",
   "metadata": {},
   "source": [
    "ちまたと違う実装をしてみたけど拡張性はなさそうだな...ngramがしんどくなる. リストつかえばいけなくもないけどめんどい"
   ]
  },
  {
   "cell_type": "markdown",
   "metadata": {},
   "source": [
    "ちなみに, ngramの何も考えないで作った実装はこれ"
   ]
  },
  {
   "cell_type": "code",
   "execution_count": 19,
   "metadata": {},
   "outputs": [],
   "source": [
    "def word_ngram(str, n = 2):\n",
    "    ngram_list = []\n",
    "    \n",
    "    words = str.split()\n",
    "    len_words = len(words)\n",
    "    \n",
    "    for i in range(0, len_words + 1 - n):\n",
    "        ngram_str = words[i]\n",
    "        for j in range(i + 1, i + n):\n",
    "            ngram_str +=  \" \" + words[j]\n",
    "            \n",
    "        ngram_list.append(ngram_str)\n",
    "        \n",
    "    return ngram_list\n",
    "\n",
    "def char_ngram(str, n = 2):\n",
    "    ngram_list = []\n",
    "    len_str = len(str)\n",
    "    for i in range(0, len_str + 1 - n):\n",
    "        ngram_str = str[i]\n",
    "        for j in range(i + 1, i + n):\n",
    "            ngram_str +=  str[j]\n",
    "        \n",
    "        ngram_list.append(ngram_str)\n",
    "    \n",
    "    return ngram_list"
   ]
  },
  {
   "cell_type": "code",
   "execution_count": 20,
   "metadata": {},
   "outputs": [
    {
     "data": {
      "text/plain": [
       "['I am ',\n",
       " ' am a',\n",
       " 'am an',\n",
       " 'm an ',\n",
       " ' an N',\n",
       " 'an NL',\n",
       " 'n NLP',\n",
       " ' NLPe',\n",
       " 'NLPer']"
      ]
     },
     "execution_count": 20,
     "metadata": {},
     "output_type": "execute_result"
    }
   ],
   "source": [
    "str = \"I am an NLPer\"\n",
    "\n",
    "char_ngram(str, 5)"
   ]
  },
  {
   "cell_type": "markdown",
   "metadata": {},
   "source": [
    "まぁ改良の余地はたくさんあるんだけど, これぐらいでいいか."
   ]
  },
  {
   "cell_type": "markdown",
   "metadata": {},
   "source": [
    "## 06. 集合\n",
    "\"paraparaparadise\"と\"paragraph\"に含まれる文字bi-gramの集合を，それぞれ, XとYとして求め，XとYの和集合，積集合，差集合を求めよ．さらに，'se'というbi-gramがXおよびYに含まれるかどうかを調べよ．"
   ]
  },
  {
   "cell_type": "code",
   "execution_count": 21,
   "metadata": {},
   "outputs": [],
   "source": [
    "def test_chap1_06():\n",
    "    str1 = \"paraparaparadise\"\n",
    "    str2 = \"paragraph\"\n",
    "\n",
    "    X = set(bigram(str1, \"char\"))\n",
    "    Y = set(bigram(str2, \"char\"))\n",
    "    \n",
    "    # XとYのテストは05で保証されているので省略. (set使うからテスト必要かもしれんが...めんd\n",
    "    X_and_Y = {\"pa\", \"ar\", \"ra\", \"ap\", \"ad\", \"di\", \"is\", \"se\", \"ag\", \"gr\", \"ph\"}\n",
    "    X_or_Y = {\"pa\", \"ar\", \"ra\", \"ap\"}\n",
    "    X_diff_Y = {\"ad\", \"di\", \"is\", \"se\"}\n",
    "    \n",
    "    assert getANDSet(X, Y)  == X_and_Y\n",
    "    assert getORSet(X, Y)   == X_or_Y\n",
    "    assert getDiffSet(X, Y) == X_diff_Y\n",
    "    \n",
    "    # 「seが含まれているかどうかを調べよ」は, どうテストしようかな. (というか, 上の結果から自明なのでは\n",
    "    # X_and_Yの文字2つと, それ以外の適当な文字2つassertするか.\n",
    "    assert isStrInSet(\"ad\", X, Y) == True\n",
    "    assert isStrInSet(\"gr\", X, Y) == True\n",
    "    assert isStrInSet(\"aa\", X, Y) == False\n",
    "    assert isStrInSet(\"cd\", X, Y) == False\n",
    "    \n",
    "    print(\"X and Y  = {}\".format(X_and_Y))\n",
    "    print(\"X or Y   = {}\".format(X_or_Y))\n",
    "    print(\"X diff Y = {}\".format(X_diff_Y))\n",
    "    print(\"'se'は入っている? {}\".format(isStrInSet(\"se\", X, Y)))"
   ]
  },
  {
   "cell_type": "code",
   "execution_count": 22,
   "metadata": {},
   "outputs": [],
   "source": [
    "def getANDSet(X, Y):\n",
    "    return X | Y\n",
    "\n",
    "def getORSet(X, Y):\n",
    "    return X & Y\n",
    "\n",
    "def getDiffSet(X, Y):\n",
    "    return X - Y\n",
    "\n",
    "def isStrInSet(str, X, Y):\n",
    "    andSet = getANDSet(X, Y)\n",
    "    return str in andSet "
   ]
  },
  {
   "cell_type": "code",
   "execution_count": 23,
   "metadata": {},
   "outputs": [
    {
     "name": "stdout",
     "output_type": "stream",
     "text": [
      "X and Y  = {'ra', 'pa', 'is', 'di', 'se', 'ad', 'ph', 'ap', 'gr', 'ar', 'ag'}\n",
      "X or Y   = {'pa', 'ap', 'ar', 'ra'}\n",
      "X diff Y = {'se', 'is', 'di', 'ad'}\n",
      "'se'は入っている? True\n"
     ]
    }
   ],
   "source": [
    "test_chap1_06()"
   ]
  },
  {
   "cell_type": "markdown",
   "metadata": {},
   "source": [
    "テストなぁ. もうちょっと書くべきなんだろうが. まぁいいか.  \n",
    "実装のほうが少なすぎて泣きたくなるし. python楽すぎ"
   ]
  },
  {
   "cell_type": "markdown",
   "metadata": {},
   "source": [
    "## 07. テンプレートによる文生成\n",
    "引数x, y, zを受け取り「x時のyはz」という文字列を返す関数を実装せよ．さらに，x=12, y=\"気温\", z=22.4として，実行結果を確認せよ．"
   ]
  },
  {
   "cell_type": "code",
   "execution_count": 25,
   "metadata": {},
   "outputs": [],
   "source": [
    "def test_chap1_07():\n",
    "    \n",
    "    # これも適当に作る.\n",
    "    assert template(1, \"コンロ\", 50.2) == \"1時のコンロは50.2\"\n",
    "    assert template(3, \"おやつ\", 5.2) == \"3時のおやつは5.2\"\n",
    "    \n",
    "    x = 12\n",
    "    y = \"気温\"\n",
    "    z = 22.4\n",
    "    \n",
    "    assert template(x, y, z) == \"12時の気温は22.4\"\n",
    "    print(\"{}\".format(template(x, y, z)))"
   ]
  },
  {
   "cell_type": "code",
   "execution_count": 26,
   "metadata": {},
   "outputs": [],
   "source": [
    "def template(x, y, z):\n",
    "    str = \"{}時の{}は{}\".format(x, y, z)\n",
    "    return str"
   ]
  },
  {
   "cell_type": "code",
   "execution_count": 27,
   "metadata": {},
   "outputs": [
    {
     "name": "stdout",
     "output_type": "stream",
     "text": [
      "12時の気温は22.4\n"
     ]
    }
   ],
   "source": [
    "test_chap1_07()"
   ]
  },
  {
   "cell_type": "markdown",
   "metadata": {},
   "source": [
    "よく考えたら, テストって回答書くのダメなんじゃないか?(今更感  \n",
    "複数の回答以外のケースでテストするのがいいのかな. ま, 適当にやるか."
   ]
  },
  {
   "cell_type": "markdown",
   "metadata": {},
   "source": [
    "## 08. 暗号文\n",
    "与えられた文字列の各文字を，以下の仕様で変換する関数cipherを実装せよ．\n",
    "\n",
    "英小文字ならば(219 - 文字コード)の文字に置換\n",
    "その他の文字はそのまま出力\n",
    "この関数を用い，英語のメッセージを暗号化・復号化せよ．"
   ]
  },
  {
   "cell_type": "code",
   "execution_count": 28,
   "metadata": {},
   "outputs": [],
   "source": [
    "def test_chap1_08():\n",
    "    str1 = \"ABCDEFG\"\n",
    "    str2 = \"abcdefg\"\n",
    "    str3 = \"I am an NLPer\"\n",
    "    \n",
    "    assert cipher(str1) == \"ABCDEFG\"\n",
    "    assert cipher(str2) == \"zyxwvut\"\n",
    "    \n",
    "    assert cipher(str3) == \"I zn zm NLPvi\"\n",
    "    assert cipher(cipher(str3)) == str3\n",
    "    \n",
    "    print(\"encrypted : {}\".format(cipher(str3)))\n",
    "    print(\"decrupted : {}\".format(cipher(cipher(str3))))"
   ]
  },
  {
   "cell_type": "code",
   "execution_count": 29,
   "metadata": {},
   "outputs": [],
   "source": [
    "def cipher(str):\n",
    "    len_str = len(str)\n",
    "    answer = \"\"\n",
    "    for i in range(len_str):\n",
    "        char = str[i]\n",
    "        if char.islower(): \n",
    "            char = chr(219 - ord(char))\n",
    "            \n",
    "        answer += char\n",
    "        \n",
    "    return answer"
   ]
  },
  {
   "cell_type": "code",
   "execution_count": 30,
   "metadata": {},
   "outputs": [
    {
     "name": "stdout",
     "output_type": "stream",
     "text": [
      "encrypted : I zn zm NLPvi\n",
      "decrupted : I am an NLPer\n"
     ]
    }
   ],
   "source": [
    "test_chap1_08()"
   ]
  },
  {
   "cell_type": "markdown",
   "metadata": {},
   "source": [
    "jisコードが来ても読めるのかなこれ. まぁいいか."
   ]
  },
  {
   "cell_type": "markdown",
   "metadata": {},
   "source": [
    "## 09. Typoglycemia\n",
    "スペースで区切られた単語列に対して，各単語の先頭と末尾の文字は残し，それ以外の文字の順序をランダムに並び替えるプログラムを作成せよ．ただし，長さが４以下の単語は並び替えないこととする．適当な英語の文（例えば\"I couldn't believe that I could actually understand what I was reading : the phenomenal power of the human mind .\"）を与え，その実行結果を確認せよ．"
   ]
  },
  {
   "cell_type": "code",
   "execution_count": 31,
   "metadata": {},
   "outputs": [],
   "source": [
    "def test_chap1_09():\n",
    "    str = \"I couldn't believe that I could actually understand what I was reading :\\\n",
    "          the phenomenal power of the human mind .\"\n",
    "    \n",
    "    assert split_str_to_word_list(str) == ['I', \"couldn't\", 'believe', 'that', \n",
    "                               'I', 'could', 'actually', 'understand', \n",
    "                               'what', 'I', 'was', 'reading', ':', \n",
    "                               'the', 'phenomenal', 'power', 'of', \n",
    "                               'the', 'human', 'mind', '.'] \n",
    "    \n",
    "    assert is_4_or_less_char(\"abcd\") == True\n",
    "    assert is_4_or_less_char(\"abcde\") == False\n",
    "    \n",
    "    # 変数名長くなってしもうた.\n",
    "    assert shuffle_btwn_first_and_last_char(\"word\")[0] == \"w\"\n",
    "    assert shuffle_btwn_first_and_last_char(\"word\")[3] == \"d\"\n",
    "    assert len(shuffle_btwn_first_and_last_char(\"word\")) == len(\"word\")\n",
    "    \n",
    "    assert shuffle_btwn_first_and_last_char(\"believe\")[0] == \"b\"\n",
    "    assert shuffle_btwn_first_and_last_char(\"believe\")[6] == \"e\"\n",
    "    assert len(shuffle_btwn_first_and_last_char(\"believe\")) == len(\"believe\")\n",
    "    \n",
    "    # 実力不足でもうテスト書けないので回答w\n",
    "    # 使うならlenとかかなぁ.\n",
    "    print(typoglycemia(str))\n",
    "    "
   ]
  },
  {
   "cell_type": "code",
   "execution_count": 32,
   "metadata": {},
   "outputs": [],
   "source": [
    "def split_str_to_word_list(str):\n",
    "    return str.split()\n",
    "\n",
    "\n",
    "def is_4_or_less_char(word):\n",
    "    if (len(word) <= 4) : return True\n",
    "    else                : return False\n",
    "    \n",
    "def shuffle_btwn_first_and_last_char(word):\n",
    "    import random\n",
    "    random.seed()\n",
    "    list_char = list(word[1:-1])\n",
    "\n",
    "    shuffled_list_char = random.sample(list_char, len(word) - 2)\n",
    "    shuffled_word = word[0] + \"\".join(shuffled_list_char) + word[-1]\n",
    "    return shuffled_word\n",
    "\n",
    "def typoglycemia(str):\n",
    "    answer = \"\"\n",
    "    word_list = split_str_to_word_list(str)\n",
    "    \n",
    "    for word in word_list:\n",
    "        shffled_word = \"\"\n",
    "        if is_4_or_less_char(word):\n",
    "            shuffled_word = word\n",
    "        else :\n",
    "            shuffled_word = shuffle_btwn_first_and_last_char(word)\n",
    "            \n",
    "    \n",
    "        answer += shuffled_word + \" \"\n",
    "    \n",
    "    answer = answer.rstrip(\" \")\n",
    "    return answer"
   ]
  },
  {
   "cell_type": "code",
   "execution_count": 33,
   "metadata": {},
   "outputs": [
    {
     "name": "stdout",
     "output_type": "stream",
     "text": [
      "I c'odnlut belviee that I could acltaluy uenndasrtd what I was rdeniag : the pmneahenol pwoer of the hmaun mind .\n"
     ]
    }
   ],
   "source": [
    "test_chap1_09()"
   ]
  },
  {
   "cell_type": "markdown",
   "metadata": {},
   "source": [
    "テストは挫折しちゃったけど, こんなかんじでいんじゃない."
   ]
  },
  {
   "cell_type": "markdown",
   "metadata": {},
   "source": [
    "個人的にc'odnlutの'はシャッフルして良いの?って気がしたけど直さなかった."
   ]
  }
 ],
 "metadata": {
  "kernelspec": {
   "display_name": "Python 3",
   "language": "python",
   "name": "python3"
  },
  "language_info": {
   "codemirror_mode": {
    "name": "ipython",
    "version": 3
   },
   "file_extension": ".py",
   "mimetype": "text/x-python",
   "name": "python",
   "nbconvert_exporter": "python",
   "pygments_lexer": "ipython3",
   "version": "3.6.6"
  },
  "toc": {
   "base_numbering": 1,
   "nav_menu": {},
   "number_sections": false,
   "sideBar": false,
   "skip_h1_title": false,
   "title_cell": "Table of Contents",
   "title_sidebar": "Contents",
   "toc_cell": false,
   "toc_position": {},
   "toc_section_display": false,
   "toc_window_display": false
  }
 },
 "nbformat": 4,
 "nbformat_minor": 2
}
