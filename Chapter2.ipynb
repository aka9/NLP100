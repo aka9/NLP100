{
 "cells": [
  {
   "cell_type": "markdown",
   "metadata": {},
   "source": [
    "# [自然言語処理100本ノック 第2章: UNIXコマンドの基礎](http://www.cl.ecei.tohoku.ac.jp/nlp100/#ch2)\n",
    "\n",
    "[hightemp.txt](http://www.cl.ecei.tohoku.ac.jp/nlp100/data/hightemp.txt)は，日本の最高気温の記録を「都道府県」「地点」「℃」「日」のタブ区切り形式で格納したファイルである．以下の処理を行うプログラムを作成し，[hightemp.txt](http://www.cl.ecei.tohoku.ac.jp/nlp100/data/hightemp.txt)を入力ファイルとして実行せよ．さらに，同様の処理をUNIXコマンドでも実行し，プログラムの実行結果を確認せよ．"
   ]
  },
  {
   "cell_type": "markdown",
   "metadata": {},
   "source": [
    "ということで, [hightemp.txt](http://www.cl.ecei.tohoku.ac.jp/nlp100/data/hightemp.txt)をダウンロード"
   ]
  },
  {
   "cell_type": "code",
   "execution_count": 22,
   "metadata": {
    "scrolled": true
   },
   "outputs": [
    {
     "data": {
      "text/plain": [
       "('hightemp.txt', <http.client.HTTPMessage at 0x7fb15596e320>)"
      ]
     },
     "execution_count": 22,
     "metadata": {},
     "output_type": "execute_result"
    }
   ],
   "source": [
    "import urllib.request\n",
    "urllib.request.urlretrieve(\"http://www.cl.ecei.tohoku.ac.jp/nlp100/data/hightemp.txt\",\n",
    "                           \"hightemp.txt\")"
   ]
  },
  {
   "cell_type": "markdown",
   "metadata": {},
   "source": [
    "まぁ curl, wgetでもできるけど, pythonで統一したかった. 一応下に書いとく."
   ]
  },
  {
   "cell_type": "code",
   "execution_count": null,
   "metadata": {},
   "outputs": [],
   "source": [
    "!curl -O http://www.cl.ecei.tohoku.ac.jp/nlp100/data/hightemp.txt"
   ]
  },
  {
   "cell_type": "code",
   "execution_count": null,
   "metadata": {},
   "outputs": [],
   "source": [
    "!wget http://www.cl.ecei.tohoku.ac.jp/nlp100/data/hightemp.txt"
   ]
  },
  {
   "cell_type": "markdown",
   "metadata": {},
   "source": [
    "## 10. 行数のカウント\n",
    "行数をカウントせよ．確認にはwcコマンドを用いよ．"
   ]
  },
  {
   "cell_type": "code",
   "execution_count": 58,
   "metadata": {},
   "outputs": [],
   "source": [
    "def test_chap2_10():\n",
    "    filename = \"hightemp.txt\"\n",
    "    answer = !grep '' {filename}|wc -l\n",
    "    answer = int(answer[0])\n",
    "    assert line_count(filename) == answer\n",
    "    \n",
    "    print(\"\\\"{}\\\"の行数は{}行です\".format(filename, answer))"
   ]
  },
  {
   "cell_type": "markdown",
   "metadata": {},
   "source": [
    "確認のwcコマンドだが, [このサイト](http://blog.unfindable.net/archives/6937)によると\n",
    "\n",
    "> 「wc -l file」が数えるのは行数ではなく改行数なので、ファイルの末尾が改行でない場合、行数よりも1少ない結果が返ります\n",
    "\n",
    "ということなので, まぁ今回の場合はwcそのまま使ってでも大丈夫なんだけど, 今回は  \n",
    "```\n",
    "grep '' file|wc -l\n",
    "```\n",
    "を使う"
   ]
  },
  {
   "cell_type": "code",
   "execution_count": 68,
   "metadata": {},
   "outputs": [],
   "source": [
    "def line_count(filename):\n",
    "    num_lines = sum(1 for line in open(filename))\n",
    "    return num_lines"
   ]
  },
  {
   "cell_type": "code",
   "execution_count": 69,
   "metadata": {
    "scrolled": true
   },
   "outputs": [
    {
     "name": "stdout",
     "output_type": "stream",
     "text": [
      "\"hightemp.txt\"の行数は24行です\n"
     ]
    }
   ],
   "source": [
    "test_chap2_10()"
   ]
  },
  {
   "cell_type": "markdown",
   "metadata": {},
   "source": [
    "sum(1 for line in open(filename)) は早いらしい. 他の実装も色々こちらに書いてある\n",
    "\n",
    "https://stackoverflow.com/questions/845058/how-to-get-line-count-cheaply-in-python\n",
    "\n",
    "ちなみに, 展開するとこんな感じのコード\n",
    "\n",
    "```\n",
    "new_list = []\n",
    "for _ in open(filename)\n",
    "    new_list.append(1)\n",
    "    \n",
    "sum(new_list)\n",
    "```\n",
    "\n",
    "リストの部分は省略されているので, 付け加えてもいい\n",
    "\n",
    "sum(\\[1 for line in open(filename)\\])"
   ]
  },
  {
   "cell_type": "code",
   "execution_count": 65,
   "metadata": {},
   "outputs": [
    {
     "data": {
      "text/plain": [
       "[1, 1, 1, 1, 1, 1, 1, 1, 1, 1]"
      ]
     },
     "execution_count": 65,
     "metadata": {},
     "output_type": "execute_result"
    }
   ],
   "source": [
    "[1 for line in range(10)]"
   ]
  },
  {
   "cell_type": "markdown",
   "metadata": {},
   "source": [
    "## 11. タブをスペースに置換\n",
    "タブ1文字につきスペース1文字に置換せよ．確認にはsedコマンド，trコマンド，もしくはexpandコマンドを用いよ．"
   ]
  },
  {
   "cell_type": "code",
   "execution_count": 123,
   "metadata": {},
   "outputs": [],
   "source": [
    "def test_chap2_11():\n",
    "    filename = \"hightemp.txt\"\n",
    "    \n",
    "    sed = !sed \"s/$(printf \"\\t\")/ /g\" {filename}\n",
    "    tr = !cat {filename} | tr \"\\t\" \" \"\n",
    "    expand = !expand -t 1 {filename}\n",
    "    \n",
    "    assert sed == tr\n",
    "    assert tr == expand\n",
    "    assert replace_tab_to_space(filename).rstrip(\"\\n\") == sed.n.rstrip(\"\\n\")\n",
    "    \n",
    "    print(replace_tab_to_space(filename))"
   ]
  },
  {
   "cell_type": "markdown",
   "metadata": {},
   "source": [
    "[こちら](https://rcmdnk.com/blog/2016/09/13/computer-gnu-bsd-linux-mac/)によると, sedはLinux（GNU）とMac（BSD）ではタブの指定方法が違うらしいので, 単純に\\tと打ってもダメみたい. (ちなみに, このノートブックの実行環境はLinuxです\n",
    "\n",
    "なので, 両方共使える \n",
    "``` \n",
    "sed \"s/$(printf \"\\t\")/ /g\" \n",
    "```\n",
    "とわざわざしている"
   ]
  },
  {
   "cell_type": "code",
   "execution_count": 124,
   "metadata": {},
   "outputs": [],
   "source": [
    "def replace_tab_to_space(filename):\n",
    "    with open(filename) as f:\n",
    "        text = f.read().expandtabs(1)\n",
    "    return text"
   ]
  },
  {
   "cell_type": "code",
   "execution_count": 125,
   "metadata": {},
   "outputs": [
    {
     "name": "stdout",
     "output_type": "stream",
     "text": [
      "高知県 江川崎 41 2013-08-12\n",
      "埼玉県 熊谷 40.9 2007-08-16\n",
      "岐阜県 多治見 40.9 2007-08-16\n",
      "山形県 山形 40.8 1933-07-25\n",
      "山梨県 甲府 40.7 2013-08-10\n",
      "和歌山県 かつらぎ 40.6 1994-08-08\n",
      "静岡県 天竜 40.6 1994-08-04\n",
      "山梨県 勝沼 40.5 2013-08-10\n",
      "埼玉県 越谷 40.4 2007-08-16\n",
      "群馬県 館林 40.3 2007-08-16\n",
      "群馬県 上里見 40.3 1998-07-04\n",
      "愛知県 愛西 40.3 1994-08-05\n",
      "千葉県 牛久 40.2 2004-07-20\n",
      "静岡県 佐久間 40.2 2001-07-24\n",
      "愛媛県 宇和島 40.2 1927-07-22\n",
      "山形県 酒田 40.1 1978-08-03\n",
      "岐阜県 美濃 40 2007-08-16\n",
      "群馬県 前橋 40 2001-07-24\n",
      "千葉県 茂原 39.9 2013-08-11\n",
      "埼玉県 鳩山 39.9 1997-07-05\n",
      "大阪府 豊中 39.9 1994-08-08\n",
      "山梨県 大月 39.9 1990-07-19\n",
      "山形県 鶴岡 39.9 1978-08-03\n",
      "愛知県 名古屋 39.9 1942-08-02\n",
      "\n"
     ]
    }
   ],
   "source": [
    "test_chap2_11()"
   ]
  },
  {
   "cell_type": "markdown",
   "metadata": {},
   "source": [
    "ちょっとずるしました.\n",
    "\n",
    "```\n",
    "assert replace_tab_to_space(filename).rstrip(\"\\n\") == sed.n.rstrip(\"\\n\")\n",
    "```\n",
    "\n",
    "なんですが, sedは IPython.utils.text.SList になっており, それに .n をつけると, 改行コードでリストをつなげてくれるらしいです. しかし, それだと末尾に改行コードはつかないです. (わかる方は, \"\\n\".join(sed)を想像するといいと思います.\n",
    "\n",
    "replace_tab_to_spaceメソッドは, そのまま文字列のタブを置換するので, 最後の改行が残り, assert error となります. なのでズルして, 末尾の改行コードは取るようにしましたw"
   ]
  },
  {
   "cell_type": "markdown",
   "metadata": {},
   "source": [
    "## 12. 1列目をcol1.txtに，2列目をcol2.txtに保存\n",
    "各行の1列目だけを抜き出したものをcol1.txtに，2列目だけを抜き出したものをcol2.txtとしてファイルに保存せよ．確認にはcutコマンドを用いよ．"
   ]
  },
  {
   "cell_type": "code",
   "execution_count": 145,
   "metadata": {},
   "outputs": [],
   "source": [
    "def test_chap2_12():\n",
    "    filename = \"hightemp.txt\"\n",
    "    \n",
    "    list_col1 = get_col_list(filename, col=0, delimiter=\"\\t\")\n",
    "    list_col2 = get_col_list(filename, col=1, delimiter=\"\\t\")\n",
    "    \n",
    "    cut_col1 = !cut -f 1 {filename}\n",
    "    cut_col2 = !cut -f 2 {filename}\n",
    "    \n",
    "    assert list_col1 == cut_col1\n",
    "    assert list_col2 == cut_col2 \n",
    "    \n",
    "    assert save_list_to_file(list_col1, \"col1.txt\", delimiter=\"\\n\") == True\n",
    "    assert save_list_to_file(list_col2, \"col2.txt\", delimiter=\"\\n\") == True\n",
    "    \n",
    "    print(list_col1)\n",
    "    print(list_col2)"
   ]
  },
  {
   "cell_type": "code",
   "execution_count": 154,
   "metadata": {},
   "outputs": [],
   "source": [
    "def get_col_list(filename, col=0, delimiter=\" \"):\n",
    "    list_col = []\n",
    "    with open(filename) as f:\n",
    "        for line in f:\n",
    "            col_word = line.split(delimiter)[col] \n",
    "            list_col.append(col_word)\n",
    "            \n",
    "    return list_col\n",
    "\n",
    "def save_list_to_file(list, filename, delimiter=\" \"):\n",
    "    with open(filename, \"w\") as f:\n",
    "        f.write(delimiter.join(list))\n",
    "        \n",
    "    return True"
   ]
  },
  {
   "cell_type": "code",
   "execution_count": 155,
   "metadata": {},
   "outputs": [
    {
     "name": "stdout",
     "output_type": "stream",
     "text": [
      "['高知県', '埼玉県', '岐阜県', '山形県', '山梨県', '和歌山県', '静岡県', '山梨県', '埼玉県', '群馬県', '群馬県', '愛知県', '千葉県', '静岡県', '愛媛県', '山形県', '岐阜県', '群馬県', '千葉県', '埼玉県', '大阪府', '山梨県', '山形県', '愛知県']\n",
      "['江川崎', '熊谷', '多治見', '山形', '甲府', 'かつらぎ', '天竜', '勝沼', '越谷', '館林', '上里見', '愛西', '牛久', '佐久間', '宇和島', '酒田', '美濃', '前橋', '茂原', '鳩山', '豊中', '大月', '鶴岡', '名古屋']\n"
     ]
    }
   ],
   "source": [
    "test_chap2_12()"
   ]
  },
  {
   "cell_type": "markdown",
   "metadata": {},
   "source": [
    "関数書いているから行数長くなっているけど, 実質8行ぐらいで書ける内容"
   ]
  },
  {
   "cell_type": "markdown",
   "metadata": {},
   "source": [
    "savefileのassertは手抜きした"
   ]
  },
  {
   "cell_type": "markdown",
   "metadata": {},
   "source": [
    "## 13. col1.txtとcol2.txtをマージ\n",
    "12で作ったcol1.txtとcol2.txtを結合し，元のファイルの1列目と2列目をタブ区切りで並べたテキストファイルを作成せよ．確認にはpasteコマンドを用いよ．"
   ]
  },
  {
   "cell_type": "code",
   "execution_count": 165,
   "metadata": {},
   "outputs": [],
   "source": [
    "def test_chap2_12():\n",
    "    filename_col1_and_col2 = \"col1_and_col2.txt\"\n",
    "    filename_col1 = \"col1.txt\"\n",
    "    filename_col2 = \"col2.txt\"\n",
    "    \n",
    "    list_col1 = get_col_list(filename_col1, col=0, delimiter=\"\")\n",
    "    list_col2 = get_col_list(filename_col2, col=0, delimiter=\"\")\n",
    "    \n",
    "    list_col1_and_col2 = extend_lists(list_col1, list_col2)\n",
    "    \n",
    "    paste = !paste {filename_col1} {filename_col2}\n",
    "    \n",
    "    assert list_col1_and_col2  == paste\n",
    "    \n",
    "    assert save_list_to_file(list_col1_and_col, filename_col1_and_col2, delimiter=\"\\n\") == True\n",
    "    \n",
    "    print(list_col1_and_col)"
   ]
  },
  {
   "cell_type": "markdown",
   "metadata": {},
   "source": [
    "## 14. 先頭からN行を出力\n",
    "自然数Nをコマンドライン引数などの手段で受け取り，入力のうち先頭のN行だけを表示せよ．確認にはheadコマンドを用いよ．\n"
   ]
  },
  {
   "cell_type": "markdown",
   "metadata": {},
   "source": [
    "## 15. 末尾のN行を出力\n",
    "自然数Nをコマンドライン引数などの手段で受け取り，入力のうち末尾のN行だけを表示せよ．確認にはtailコマンドを用いよ．"
   ]
  },
  {
   "cell_type": "markdown",
   "metadata": {},
   "source": [
    "## 16. ファイルをN分割する\n",
    "自然数Nをコマンドライン引数などの手段で受け取り，入力のファイルを行単位でN分割せよ．同様の処理をsplitコマンドで実現せよ．"
   ]
  },
  {
   "cell_type": "markdown",
   "metadata": {},
   "source": [
    "## 17. １列目の文字列の異なり\n",
    "1列目の文字列の種類（異なる文字列の集合）を求めよ．確認にはsort, uniqコマンドを用いよ．\n"
   ]
  },
  {
   "cell_type": "markdown",
   "metadata": {},
   "source": [
    "## 18. 各行を3コラム目の数値の降順にソート\n",
    "各行を3コラム目の数値の逆順で整列せよ（注意: 各行の内容は変更せずに並び替えよ）．確認にはsortコマンドを用いよ（この問題はコマンドで実行した時の結果と合わなくてもよい）．"
   ]
  },
  {
   "cell_type": "markdown",
   "metadata": {},
   "source": [
    "## 19. 各行の1コラム目の文字列の出現頻度を求め，出現頻度の高い順に並べる\n",
    "各行の1列目の文字列の出現頻度を求め，その高い順に並べて表示せよ．確認にはcut, uniq, sortコマンドを用いよ．"
   ]
  },
  {
   "cell_type": "code",
   "execution_count": 1,
   "metadata": {},
   "outputs": [],
   "source": [
    "def test_chap2_10():\n",
    "    a = !ls\n",
    "    print(a)\n"
   ]
  },
  {
   "cell_type": "code",
   "execution_count": null,
   "metadata": {},
   "outputs": [],
   "source": []
  }
 ],
 "metadata": {
  "kernelspec": {
   "display_name": "Python 3",
   "language": "python",
   "name": "python3"
  },
  "language_info": {
   "codemirror_mode": {
    "name": "ipython",
    "version": 3
   },
   "file_extension": ".py",
   "mimetype": "text/x-python",
   "name": "python",
   "nbconvert_exporter": "python",
   "pygments_lexer": "ipython3",
   "version": "3.6.6"
  },
  "toc": {
   "base_numbering": 1,
   "nav_menu": {},
   "number_sections": false,
   "sideBar": false,
   "skip_h1_title": false,
   "title_cell": "Table of Contents",
   "title_sidebar": "Contents",
   "toc_cell": false,
   "toc_position": {},
   "toc_section_display": false,
   "toc_window_display": false
  }
 },
 "nbformat": 4,
 "nbformat_minor": 2
}
